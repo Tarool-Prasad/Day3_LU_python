{
 "cells": [
  {
   "cell_type": "code",
   "execution_count": null,
   "metadata": {},
   "outputs": [],
   "source": []
  },
  {
   "cell_type": "code",
   "execution_count": 7,
   "metadata": {},
   "outputs": [
    {
     "name": "stdout",
     "output_type": "stream",
     "text": [
      "9 --> 10\n",
      "8 --> 19\n",
      "7 --> 27\n",
      "6 --> 34\n",
      "5 --> 40\n",
      "4 --> 45\n",
      "3 --> 49\n",
      "2 --> 52\n",
      "1 --> 54\n",
      "0 --> 55\n",
      "-1 --> 55\n",
      "Sum is 55\n"
     ]
    }
   ],
   "source": [
    "n=10\n",
    "total_no=n\n",
    "sum1=0\n",
    "while(n>=0):\n",
    "    sum1=sum1+n\n",
    "    n=n-1\n",
    "    print(n,\"-->\",sum1)\n",
    "print(\"Sum is\",sum1)\n",
    "    "
   ]
  },
  {
   "cell_type": "code",
   "execution_count": null,
   "metadata": {},
   "outputs": [],
   "source": []
  }
 ],
 "metadata": {
  "kernelspec": {
   "display_name": "Python 3",
   "language": "python",
   "name": "python3"
  },
  "language_info": {
   "codemirror_mode": {
    "name": "ipython",
    "version": 3
   },
   "file_extension": ".py",
   "mimetype": "text/x-python",
   "name": "python",
   "nbconvert_exporter": "python",
   "pygments_lexer": "ipython3",
   "version": "3.7.6"
  }
 },
 "nbformat": 4,
 "nbformat_minor": 4
}
